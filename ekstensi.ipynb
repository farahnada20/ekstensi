{
  "nbformat": 4,
  "nbformat_minor": 0,
  "metadata": {
    "colab": {
      "provenance": [],
      "authorship_tag": "ABX9TyOa9qECbgA7opSwNHSibKOH",
      "include_colab_link": true
    },
    "kernelspec": {
      "name": "python3",
      "display_name": "Python 3"
    },
    "language_info": {
      "name": "python"
    }
  },
  "cells": [
    {
      "cell_type": "markdown",
      "metadata": {
        "id": "view-in-github",
        "colab_type": "text"
      },
      "source": [
        "<a href=\"https://colab.research.google.com/github/farahnada20/ekstensi/blob/main/ekstensi.ipynb\" target=\"_parent\"><img src=\"https://colab.research.google.com/assets/colab-badge.svg\" alt=\"Open In Colab\"/></a>"
      ]
    },
    {
      "cell_type": "code",
      "execution_count": null,
      "metadata": {
        "colab": {
          "base_uri": "https://localhost:8080/"
        },
        "id": "zAwyVqezR99k",
        "outputId": "d6f1c8f9-8777-4a6e-ea8e-6522469496fe"
      },
      "outputs": [
        {
          "output_type": "stream",
          "name": "stdout",
          "text": [
            "Budi details:\n",
            "rambut: ikal\n",
            "warna Rambut: Hitam\n",
            "\n",
            "Michael details:\n",
            "Rambut: lurus\n",
            "warna Rambut: pirang\n"
          ]
        }
      ],
      "source": [
        "#class variable\n",
        "class Person:\n",
        "\n",
        "  #the init method or constructor\n",
        "  def __init__(self,rambut,warna):\n",
        "    #instance variable\n",
        "    self.rambut = rambut\n",
        "    self.warna = warna\n",
        "\n",
        "#objects\n",
        "Budi = Person(\"ikal\", \"Hitam\")\n",
        "Michael = Person(\"lurus\", \"pirang\")\n",
        "\n",
        "print('Budi details:')\n",
        "print('rambut:', Budi.rambut)\n",
        "print('warna Rambut:', Budi.warna)\n",
        "\n",
        "print('\\nMichael details:')\n",
        "print('Rambut:', Michael.rambut)\n",
        "print('warna Rambut:', Michael.warna)\n",
        "\n"
      ]
    }
  ]
}